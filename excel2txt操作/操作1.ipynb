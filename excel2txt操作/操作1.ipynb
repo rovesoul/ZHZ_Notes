{
 "cells": [
  {
   "cell_type": "code",
   "execution_count": 2,
   "metadata": {},
   "outputs": [],
   "source": [
    "import pandas as pd"
   ]
  },
  {
   "cell_type": "code",
   "execution_count": 6,
   "metadata": {},
   "outputs": [
    {
     "output_type": "execute_result",
     "data": {
      "text/plain": "    Unnamed: 0          2.1                航站楼-公共广播系统  \\\n0          NaN           NaN            公共广播系统-系统运行设备   \n1          1.0  MH0301010001                  自动广播服务器   \n2          2.0  MH0301010002              公共广播系统管理服务器   \n3          3.0  MH0301010003                自动语音合成服务器   \n4          4.0  MH0301010004            公共广播系统数据交换服务器   \n5          5.0  MH0301140001              公共广播系统数据库软件   \n6          6.0  MH0305040001                 自动广播系统软件   \n7          7.0  MH0305040002                 广播系统管理软件   \n8          8.0  MH0302050001                   多通道语音卡   \n9          9.0  MH0307160001                      语音库   \n10        10.0  MH0307160002                TTS引擎及语音库   \n11        11.0  MH0305040003             公共广播系统数据交换软件   \n12        12.0  MH0305040004             公共广播系统双机热备软件   \n13        13.0  MH0307020001           网络音频矩阵 384*384   \n14        14.0  MH0307030001                    输入接口机   \n15        15.0  MH0307030002                    输出接口机   \n16        16.0  MH0307030005               消防广播主机接口设备   \n17        17.0  MH0307110002                   电源强切设备   \n18        18.0  MH0307030003                 多通道语音记录仪   \n19        19.0  MH0307010001               AM/FM数码调谐器   \n20        20.0  MH0307010002                   DVD播放器   \n21        21.0  MH0301020001                  自动广播工作站   \n22        22.0  MH0307030004                  内通输入接口机   \n23        23.0  MH0307080001                  监听音箱 6W   \n24        24.0  MH0301020002                    GUI终端   \n25        25.0  MH0301020004                   移动测试终端   \n26        26.0  MH0307040001                    网络呼叫站   \n27        27.0  MH0307090001         数字功率放大器 200W*8通道   \n28        28.0  MH0307110001                  功放倒备切换器   \n29        29.0  MH0307070001               噪探输入接口机 8路   \n30        30.0  MH0307060001                    噪声探测器   \n31        31.0  MH0307050001             音量控制器（含强切功能）   \n32        32.0  MH0307130006                  吸顶音箱 3W   \n33        33.0  MH0307130007                  吸顶音箱 6W   \n34        34.0  MH0307130008                  壁挂音箱 6W   \n35        35.0  MH0307130009                号角扬声器 15W   \n36        36.0  MH0307130010                号角扬声器 30W   \n37        37.0  MH0307130011                 壁挂音柱 15W   \n38        38.0  MH0307130012                 壁挂音柱 30W   \n39        39.0  MH0307130013                 有源线阵列扬声器   \n40        40.0  MH0315020001   电气配线 WDZN-RYYP2*1.5mm2   \n41        41.0  MH0315020002  电气配线 WDZN-RYYP-4*1.0mm2   \n42        42.0  MH0315030001              网线 Cat6 UTP   \n43        43.0  MH0315090001              可挠金属软管 CP17   \n44        44.0  MH0307170002             公共广播系统调试与试运行   \n45        45.0           NaN          紧定式镀锌电线管（刷防火涂料）   \n46        46.0           NaN                     草坪音箱   \n47         NaN           NaN            公共广播系统-系统备份中心   \n48        47.0  MH0307020002           网络音频矩阵 384*384   \n49        48.0  MH0301010005              公共广播系统管理服务器   \n50         NaN           NaN        公共广播系统-ITC模拟测试实验室   \n51        49.0  MH0307090002         数字功率放大器 200W*8通道   \n52        50.0  MH0307130014                  吸顶音箱 6W   \n53        51.0  MH0307040002                    网络呼叫站   \n54         NaN           NaN                      NaN   \n\n                           Unnamed: 3  Unnamed: 4  \n0                                 NaN         NaN  \n1                          RH2288H V3        2.00  \n2                          RH2288H V3        2.00  \n3                          RH2288H V3        2.00  \n4                          RH2288H V3        2.00  \n5                               MySQL        1.00  \n6                                  定制        1.00  \n7                     Control Manager        1.00  \n8                             ASI6416        2.00  \n9                                  定制        1.00  \n10                            捷通华声TTS        1.00  \n11                                 定制        1.00  \n12                            ROSE HA        4.00  \n13                             NION          1.00  \n14                             CAB 8n        4.00  \n15                             CAB 8n        2.00  \n16                          FPC-20032        3.00  \n17                              FS-10       17.00  \n18                        96数字语音记录仪主机        1.00  \n19                              F-208        1.00  \n20                     TASCAM DV-D01U        1.00  \n21               HP ProDesk 480 G3 MT        1.00  \n22                             CAB 8n        1.00  \n23                                6W         7.00  \n24               HP ProDesk 480 G3 MT        7.00  \n25  HP ZBook 15 G3 Mobile Workstation        1.00  \n26                             NPU-10      105.00  \n27                             Ci20x8       61.00  \n28                             BS-902       19.00  \n29                             CAB 8n       11.00  \n30                              AT-27       46.00  \n31                              VC-80       78.00  \n32                          CL-263THS     2004.00  \n33                          CL-263THS      799.00  \n34                           WL-140TS      648.00  \n35                           BC-615TS       88.00  \n36                           BC-630TS       31.00  \n37                             AW-740      152.00  \n38                             AW-760      348.00  \n39                            PA2-428       23.00  \n40                  WDZN-RYYP2*1.5mm2    79553.46  \n41                 WDZN-RYYP-4*1.0mm2    27445.41  \n42                  65N4ZH-i GRAY CPK     1818.42  \n43                               CP17    93959.59  \n44                                NaN        1.00  \n45                              JDG20         NaN  \n46                            15W草坪音箱       14.00  \n47                                NaN         NaN  \n48                             NION          1.00  \n49                         RH2288H V3        1.00  \n50                                NaN         NaN  \n51                             Ci20x8        1.00  \n52                          CL-263THS       10.00  \n53                             NPU-10        1.00  \n54                                NaN         NaN  ",
      "text/html": "<div>\n<style scoped>\n    .dataframe tbody tr th:only-of-type {\n        vertical-align: middle;\n    }\n\n    .dataframe tbody tr th {\n        vertical-align: top;\n    }\n\n    .dataframe thead th {\n        text-align: right;\n    }\n</style>\n<table border=\"1\" class=\"dataframe\">\n  <thead>\n    <tr style=\"text-align: right;\">\n      <th></th>\n      <th>Unnamed: 0</th>\n      <th>2.1</th>\n      <th>航站楼-公共广播系统</th>\n      <th>Unnamed: 3</th>\n      <th>Unnamed: 4</th>\n    </tr>\n  </thead>\n  <tbody>\n    <tr>\n      <th>0</th>\n      <td>NaN</td>\n      <td>NaN</td>\n      <td>公共广播系统-系统运行设备</td>\n      <td>NaN</td>\n      <td>NaN</td>\n    </tr>\n    <tr>\n      <th>1</th>\n      <td>1.0</td>\n      <td>MH0301010001</td>\n      <td>自动广播服务器</td>\n      <td>RH2288H V3</td>\n      <td>2.00</td>\n    </tr>\n    <tr>\n      <th>2</th>\n      <td>2.0</td>\n      <td>MH0301010002</td>\n      <td>公共广播系统管理服务器</td>\n      <td>RH2288H V3</td>\n      <td>2.00</td>\n    </tr>\n    <tr>\n      <th>3</th>\n      <td>3.0</td>\n      <td>MH0301010003</td>\n      <td>自动语音合成服务器</td>\n      <td>RH2288H V3</td>\n      <td>2.00</td>\n    </tr>\n    <tr>\n      <th>4</th>\n      <td>4.0</td>\n      <td>MH0301010004</td>\n      <td>公共广播系统数据交换服务器</td>\n      <td>RH2288H V3</td>\n      <td>2.00</td>\n    </tr>\n    <tr>\n      <th>5</th>\n      <td>5.0</td>\n      <td>MH0301140001</td>\n      <td>公共广播系统数据库软件</td>\n      <td>MySQL</td>\n      <td>1.00</td>\n    </tr>\n    <tr>\n      <th>6</th>\n      <td>6.0</td>\n      <td>MH0305040001</td>\n      <td>自动广播系统软件</td>\n      <td>定制</td>\n      <td>1.00</td>\n    </tr>\n    <tr>\n      <th>7</th>\n      <td>7.0</td>\n      <td>MH0305040002</td>\n      <td>广播系统管理软件</td>\n      <td>Control Manager</td>\n      <td>1.00</td>\n    </tr>\n    <tr>\n      <th>8</th>\n      <td>8.0</td>\n      <td>MH0302050001</td>\n      <td>多通道语音卡</td>\n      <td>ASI6416</td>\n      <td>2.00</td>\n    </tr>\n    <tr>\n      <th>9</th>\n      <td>9.0</td>\n      <td>MH0307160001</td>\n      <td>语音库</td>\n      <td>定制</td>\n      <td>1.00</td>\n    </tr>\n    <tr>\n      <th>10</th>\n      <td>10.0</td>\n      <td>MH0307160002</td>\n      <td>TTS引擎及语音库</td>\n      <td>捷通华声TTS</td>\n      <td>1.00</td>\n    </tr>\n    <tr>\n      <th>11</th>\n      <td>11.0</td>\n      <td>MH0305040003</td>\n      <td>公共广播系统数据交换软件</td>\n      <td>定制</td>\n      <td>1.00</td>\n    </tr>\n    <tr>\n      <th>12</th>\n      <td>12.0</td>\n      <td>MH0305040004</td>\n      <td>公共广播系统双机热备软件</td>\n      <td>ROSE HA</td>\n      <td>4.00</td>\n    </tr>\n    <tr>\n      <th>13</th>\n      <td>13.0</td>\n      <td>MH0307020001</td>\n      <td>网络音频矩阵 384*384</td>\n      <td>NION</td>\n      <td>1.00</td>\n    </tr>\n    <tr>\n      <th>14</th>\n      <td>14.0</td>\n      <td>MH0307030001</td>\n      <td>输入接口机</td>\n      <td>CAB 8n</td>\n      <td>4.00</td>\n    </tr>\n    <tr>\n      <th>15</th>\n      <td>15.0</td>\n      <td>MH0307030002</td>\n      <td>输出接口机</td>\n      <td>CAB 8n</td>\n      <td>2.00</td>\n    </tr>\n    <tr>\n      <th>16</th>\n      <td>16.0</td>\n      <td>MH0307030005</td>\n      <td>消防广播主机接口设备</td>\n      <td>FPC-20032</td>\n      <td>3.00</td>\n    </tr>\n    <tr>\n      <th>17</th>\n      <td>17.0</td>\n      <td>MH0307110002</td>\n      <td>电源强切设备</td>\n      <td>FS-10</td>\n      <td>17.00</td>\n    </tr>\n    <tr>\n      <th>18</th>\n      <td>18.0</td>\n      <td>MH0307030003</td>\n      <td>多通道语音记录仪</td>\n      <td>96数字语音记录仪主机</td>\n      <td>1.00</td>\n    </tr>\n    <tr>\n      <th>19</th>\n      <td>19.0</td>\n      <td>MH0307010001</td>\n      <td>AM/FM数码调谐器</td>\n      <td>F-208</td>\n      <td>1.00</td>\n    </tr>\n    <tr>\n      <th>20</th>\n      <td>20.0</td>\n      <td>MH0307010002</td>\n      <td>DVD播放器</td>\n      <td>TASCAM DV-D01U</td>\n      <td>1.00</td>\n    </tr>\n    <tr>\n      <th>21</th>\n      <td>21.0</td>\n      <td>MH0301020001</td>\n      <td>自动广播工作站</td>\n      <td>HP ProDesk 480 G3 MT</td>\n      <td>1.00</td>\n    </tr>\n    <tr>\n      <th>22</th>\n      <td>22.0</td>\n      <td>MH0307030004</td>\n      <td>内通输入接口机</td>\n      <td>CAB 8n</td>\n      <td>1.00</td>\n    </tr>\n    <tr>\n      <th>23</th>\n      <td>23.0</td>\n      <td>MH0307080001</td>\n      <td>监听音箱 6W</td>\n      <td>6W</td>\n      <td>7.00</td>\n    </tr>\n    <tr>\n      <th>24</th>\n      <td>24.0</td>\n      <td>MH0301020002</td>\n      <td>GUI终端</td>\n      <td>HP ProDesk 480 G3 MT</td>\n      <td>7.00</td>\n    </tr>\n    <tr>\n      <th>25</th>\n      <td>25.0</td>\n      <td>MH0301020004</td>\n      <td>移动测试终端</td>\n      <td>HP ZBook 15 G3 Mobile Workstation</td>\n      <td>1.00</td>\n    </tr>\n    <tr>\n      <th>26</th>\n      <td>26.0</td>\n      <td>MH0307040001</td>\n      <td>网络呼叫站</td>\n      <td>NPU-10</td>\n      <td>105.00</td>\n    </tr>\n    <tr>\n      <th>27</th>\n      <td>27.0</td>\n      <td>MH0307090001</td>\n      <td>数字功率放大器 200W*8通道</td>\n      <td>Ci20x8</td>\n      <td>61.00</td>\n    </tr>\n    <tr>\n      <th>28</th>\n      <td>28.0</td>\n      <td>MH0307110001</td>\n      <td>功放倒备切换器</td>\n      <td>BS-902</td>\n      <td>19.00</td>\n    </tr>\n    <tr>\n      <th>29</th>\n      <td>29.0</td>\n      <td>MH0307070001</td>\n      <td>噪探输入接口机 8路</td>\n      <td>CAB 8n</td>\n      <td>11.00</td>\n    </tr>\n    <tr>\n      <th>30</th>\n      <td>30.0</td>\n      <td>MH0307060001</td>\n      <td>噪声探测器</td>\n      <td>AT-27</td>\n      <td>46.00</td>\n    </tr>\n    <tr>\n      <th>31</th>\n      <td>31.0</td>\n      <td>MH0307050001</td>\n      <td>音量控制器（含强切功能）</td>\n      <td>VC-80</td>\n      <td>78.00</td>\n    </tr>\n    <tr>\n      <th>32</th>\n      <td>32.0</td>\n      <td>MH0307130006</td>\n      <td>吸顶音箱 3W</td>\n      <td>CL-263THS</td>\n      <td>2004.00</td>\n    </tr>\n    <tr>\n      <th>33</th>\n      <td>33.0</td>\n      <td>MH0307130007</td>\n      <td>吸顶音箱 6W</td>\n      <td>CL-263THS</td>\n      <td>799.00</td>\n    </tr>\n    <tr>\n      <th>34</th>\n      <td>34.0</td>\n      <td>MH0307130008</td>\n      <td>壁挂音箱 6W</td>\n      <td>WL-140TS</td>\n      <td>648.00</td>\n    </tr>\n    <tr>\n      <th>35</th>\n      <td>35.0</td>\n      <td>MH0307130009</td>\n      <td>号角扬声器 15W</td>\n      <td>BC-615TS</td>\n      <td>88.00</td>\n    </tr>\n    <tr>\n      <th>36</th>\n      <td>36.0</td>\n      <td>MH0307130010</td>\n      <td>号角扬声器 30W</td>\n      <td>BC-630TS</td>\n      <td>31.00</td>\n    </tr>\n    <tr>\n      <th>37</th>\n      <td>37.0</td>\n      <td>MH0307130011</td>\n      <td>壁挂音柱 15W</td>\n      <td>AW-740</td>\n      <td>152.00</td>\n    </tr>\n    <tr>\n      <th>38</th>\n      <td>38.0</td>\n      <td>MH0307130012</td>\n      <td>壁挂音柱 30W</td>\n      <td>AW-760</td>\n      <td>348.00</td>\n    </tr>\n    <tr>\n      <th>39</th>\n      <td>39.0</td>\n      <td>MH0307130013</td>\n      <td>有源线阵列扬声器</td>\n      <td>PA2-428</td>\n      <td>23.00</td>\n    </tr>\n    <tr>\n      <th>40</th>\n      <td>40.0</td>\n      <td>MH0315020001</td>\n      <td>电气配线 WDZN-RYYP2*1.5mm2</td>\n      <td>WDZN-RYYP2*1.5mm2</td>\n      <td>79553.46</td>\n    </tr>\n    <tr>\n      <th>41</th>\n      <td>41.0</td>\n      <td>MH0315020002</td>\n      <td>电气配线 WDZN-RYYP-4*1.0mm2</td>\n      <td>WDZN-RYYP-4*1.0mm2</td>\n      <td>27445.41</td>\n    </tr>\n    <tr>\n      <th>42</th>\n      <td>42.0</td>\n      <td>MH0315030001</td>\n      <td>网线 Cat6 UTP</td>\n      <td>65N4ZH-i GRAY CPK</td>\n      <td>1818.42</td>\n    </tr>\n    <tr>\n      <th>43</th>\n      <td>43.0</td>\n      <td>MH0315090001</td>\n      <td>可挠金属软管 CP17</td>\n      <td>CP17</td>\n      <td>93959.59</td>\n    </tr>\n    <tr>\n      <th>44</th>\n      <td>44.0</td>\n      <td>MH0307170002</td>\n      <td>公共广播系统调试与试运行</td>\n      <td>NaN</td>\n      <td>1.00</td>\n    </tr>\n    <tr>\n      <th>45</th>\n      <td>45.0</td>\n      <td>NaN</td>\n      <td>紧定式镀锌电线管（刷防火涂料）</td>\n      <td>JDG20</td>\n      <td>NaN</td>\n    </tr>\n    <tr>\n      <th>46</th>\n      <td>46.0</td>\n      <td>NaN</td>\n      <td>草坪音箱</td>\n      <td>15W草坪音箱</td>\n      <td>14.00</td>\n    </tr>\n    <tr>\n      <th>47</th>\n      <td>NaN</td>\n      <td>NaN</td>\n      <td>公共广播系统-系统备份中心</td>\n      <td>NaN</td>\n      <td>NaN</td>\n    </tr>\n    <tr>\n      <th>48</th>\n      <td>47.0</td>\n      <td>MH0307020002</td>\n      <td>网络音频矩阵 384*384</td>\n      <td>NION</td>\n      <td>1.00</td>\n    </tr>\n    <tr>\n      <th>49</th>\n      <td>48.0</td>\n      <td>MH0301010005</td>\n      <td>公共广播系统管理服务器</td>\n      <td>RH2288H V3</td>\n      <td>1.00</td>\n    </tr>\n    <tr>\n      <th>50</th>\n      <td>NaN</td>\n      <td>NaN</td>\n      <td>公共广播系统-ITC模拟测试实验室</td>\n      <td>NaN</td>\n      <td>NaN</td>\n    </tr>\n    <tr>\n      <th>51</th>\n      <td>49.0</td>\n      <td>MH0307090002</td>\n      <td>数字功率放大器 200W*8通道</td>\n      <td>Ci20x8</td>\n      <td>1.00</td>\n    </tr>\n    <tr>\n      <th>52</th>\n      <td>50.0</td>\n      <td>MH0307130014</td>\n      <td>吸顶音箱 6W</td>\n      <td>CL-263THS</td>\n      <td>10.00</td>\n    </tr>\n    <tr>\n      <th>53</th>\n      <td>51.0</td>\n      <td>MH0307040002</td>\n      <td>网络呼叫站</td>\n      <td>NPU-10</td>\n      <td>1.00</td>\n    </tr>\n    <tr>\n      <th>54</th>\n      <td>NaN</td>\n      <td>NaN</td>\n      <td>NaN</td>\n      <td>NaN</td>\n      <td>NaN</td>\n    </tr>\n  </tbody>\n</table>\n</div>"
     },
     "metadata": {},
     "execution_count": 6
    }
   ],
   "source": [
    "df = pd.read_csv(\"工作簿1.csv\" ,encoding='utf8')\n",
    "df"
   ]
  },
  {
   "cell_type": "code",
   "execution_count": 10,
   "metadata": {},
   "outputs": [],
   "source": [
    "def writes(a,b,c):\n",
    "    print(f'共安装型号为{b}的{a}{c}台')"
   ]
  },
  {
   "cell_type": "code",
   "execution_count": 40,
   "metadata": {
    "tags": []
   },
   "outputs": [
    {
     "output_type": "error",
     "ename": "SyntaxError",
     "evalue": "invalid syntax (<ipython-input-40-24bb7b092191>, line 3)",
     "traceback": [
      "\u001b[0;36m  File \u001b[0;32m\"<ipython-input-40-24bb7b092191>\"\u001b[0;36m, line \u001b[0;32m3\u001b[0m\n\u001b[0;31m    print(ff)lines()\u001b[0m\n\u001b[0m                 ^\u001b[0m\n\u001b[0;31mSyntaxError\u001b[0m\u001b[0;31m:\u001b[0m invalid syntax\n"
     ]
    }
   ],
   "source": [
    "lines()\n",
    "    for item in ff:\n",
    "        print(list(item))\n",
    "        print('\\n')"
   ]
  },
  {
   "cell_type": "code",
   "execution_count": null,
   "metadata": {},
   "outputs": [],
   "source": []
  },
  {
   "cell_type": "code",
   "execution_count": null,
   "metadata": {},
   "outputs": [],
   "source": []
  }
 ],
 "metadata": {
  "language_info": {
   "codemirror_mode": {
    "name": "ipython",
    "version": 3
   },
   "file_extension": ".py",
   "mimetype": "text/x-python",
   "name": "python",
   "nbconvert_exporter": "python",
   "pygments_lexer": "ipython3",
   "version": "3.7.4-final"
  },
  "orig_nbformat": 2,
  "kernelspec": {
   "name": "python3",
   "display_name": "Python 3"
  }
 },
 "nbformat": 4,
 "nbformat_minor": 2
}